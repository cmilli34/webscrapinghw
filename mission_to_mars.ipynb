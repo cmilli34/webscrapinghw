{
 "cells": [
  {
   "cell_type": "code",
   "execution_count": 2,
   "metadata": {},
   "outputs": [
    {
     "name": "stdout",
     "output_type": "stream",
     "text": [
      "Requirement already satisfied: splinter in /anaconda3/lib/python3.6/site-packages (0.10.0)\n",
      "Requirement already satisfied: selenium>=3.141.0 in /anaconda3/lib/python3.6/site-packages (from splinter) (3.141.0)\n",
      "Requirement already satisfied: urllib3 in /anaconda3/lib/python3.6/site-packages (from selenium>=3.141.0->splinter) (1.22)\n",
      "\u001b[33mYou are using pip version 19.0, however version 19.0.3 is available.\n",
      "You should consider upgrading via the 'pip install --upgrade pip' command.\u001b[0m\n",
      "Requirement already satisfied: bs4 in /anaconda3/lib/python3.6/site-packages (0.0.1)\n",
      "Requirement already satisfied: beautifulsoup4 in /anaconda3/lib/python3.6/site-packages (from bs4) (4.6.0)\n",
      "\u001b[33mYou are using pip version 19.0, however version 19.0.3 is available.\n",
      "You should consider upgrading via the 'pip install --upgrade pip' command.\u001b[0m\n",
      "Collecting twitter\n",
      "  Using cached https://files.pythonhosted.org/packages/85/e2/f602e3f584503f03e0389491b251464f8ecfe2596ac86e6b9068fe7419d3/twitter-1.18.0-py2.py3-none-any.whl\n",
      "Installing collected packages: twitter\n",
      "Successfully installed twitter-1.18.0\n",
      "\u001b[33mYou are using pip version 19.0, however version 19.0.3 is available.\n",
      "You should consider upgrading via the 'pip install --upgrade pip' command.\u001b[0m\n"
     ]
    }
   ],
   "source": [
    "#only doing this because my environemnt has these packages but they won't load them into Jupyter\n",
    "! pip install splinter\n",
    "! pip install bs4\n",
    "! pip install twitter"
   ]
  },
  {
   "cell_type": "markdown",
   "metadata": {},
   "source": [
    "#### Install Packages, initialize, and get the HTML file"
   ]
  },
  {
   "cell_type": "code",
   "execution_count": 6,
   "metadata": {},
   "outputs": [],
   "source": [
    "from splinter import Browser\n",
    "import pandas as pd\n",
    "from bs4 import BeautifulSoup as bs\n",
    "import os\n",
    "import requests\n",
    "import pymongo\n",
    "from twitter import *"
   ]
  },
  {
   "cell_type": "code",
   "execution_count": 28,
   "metadata": {},
   "outputs": [],
   "source": [
    "# Initialize PyMongo to work with MongoDBs\n",
    "conn = 'mongodb://localhost:27017'\n",
    "client = pymongo.MongoClient(conn)"
   ]
  },
  {
   "cell_type": "code",
   "execution_count": 21,
   "metadata": {},
   "outputs": [],
   "source": [
    "#read html file into jupyter\n",
    "filepath = os.path.join('nasa.html')\n",
    "with open(filepath) as file:\n",
    "    html = file.read()"
   ]
  },
  {
   "cell_type": "markdown",
   "metadata": {},
   "source": [
    "### Web Scraping"
   ]
  },
  {
   "cell_type": "code",
   "execution_count": null,
   "metadata": {},
   "outputs": [],
   "source": [
    "#make a beautiful soup object\n",
    "mars = soup = bs(html, 'lxml')"
   ]
  },
  {
   "cell_type": "code",
   "execution_count": 32,
   "metadata": {},
   "outputs": [],
   "source": [
    "#collect the latest News Title and Paragraph Text. Assign the text to variables that you can reference later."
   ]
  },
  {
   "cell_type": "code",
   "execution_count": 29,
   "metadata": {},
   "outputs": [
    {
     "name": "stdout",
     "output_type": "stream",
     "text": [
      "News  – NASA’s Mars Exploration Program \n"
     ]
    }
   ],
   "source": [
    "# Extract title text\n",
    "title = soup.title.text\n",
    "print(title)"
   ]
  },
  {
   "cell_type": "code",
   "execution_count": 31,
   "metadata": {},
   "outputs": [
    {
     "name": "stdout",
     "output_type": "stream",
     "text": [
      "Managed by the Mars Exploration Program and the Jet Propulsion Laboratory for NASA’s Science Mission Directorate\n"
     ]
    }
   ],
   "source": [
    "# Print all paragraph texts\n",
    "paragraph = mars.find_all('p')\n",
    "for paragraph in paragraphs:\n",
    "    print(paragraph.text)"
   ]
  },
  {
   "cell_type": "markdown",
   "metadata": {},
   "source": [
    "### Twitter API Section"
   ]
  },
  {
   "cell_type": "code",
   "execution_count": 3,
   "metadata": {},
   "outputs": [],
   "source": [
    "#HIDE THIS SHIT LATER\n",
    "consumer_key = '3rTUDvHNXLoYzEDOpkkJ4DasQ'\n",
    "consumer_secret = 'zcBs8J5BaZb9nuFw3zJWDcdI0EkdYNV3mjtSB6WnOpbrA5iW8u'\n",
    "access_token = '592377153-uXam4caBlKgxXE3sAQfMmV2UJ0BdF1qZjUlvbm65'\n",
    "access_key = 'AHDFjxzDbluP1I8ZgATwfj0zFA9EjMDEeA6nuwdb0e8qk'"
   ]
  },
  {
   "cell_type": "code",
   "execution_count": 11,
   "metadata": {},
   "outputs": [],
   "source": [
    "#authenticate twitter api with my keys\n",
    "t = Twitter(\n",
    "    auth = OAuth(access_token, access_key, consumer_key, consumer_secret))"
   ]
  },
  {
   "cell_type": "code",
   "execution_count": 19,
   "metadata": {},
   "outputs": [],
   "source": [
    "user = \"MarsWxReport\""
   ]
  },
  {
   "cell_type": "code",
   "execution_count": 28,
   "metadata": {},
   "outputs": [
    {
     "name": "stdout",
     "output_type": "stream",
     "text": [
      "b'InSight sol 95 (2019-03-03) low -95.2C (-139.3F) high -15.8C (3.6F)\\nwinds from the SW at 4.8 m/s (10.8 mph) gus https://t.co/HpTczWciFq'\n",
      "b'InSight sol 94 (2019-03-03) low -133.6C (-208.4F) high -14.4C (6.0F)\\npressure at 7.20 hPa'\n",
      "b'InSight sol 92 (2019-03-01) low -94.4C (-137.9F) high -12.9C (8.8F)\\nwinds from the SW at 4.6 m/s (10.2 mph) gus https://t.co/gTFeLKAe2X'\n",
      "b'InSight sol 91 (2019-02-28) low -95.0C (-139.0F) high -13.9C (7.0F)\\nwinds from the SW at 4.2 m/s (9.5 mph) gust https://t.co/YxrWhyBdXS'\n",
      "b'InSight sol 90 (2019-02-26) low -93.9C (-137.0F) high -12.1C (10.2F)\\nwinds from the SW at 4.2 m/s (9.3 mph) gus https://t.co/xJPOfFjLCy'\n",
      "b'InSight sol 89 (2019-02-26) low -95.1C (-139.2F) high -14.4C (6.1F)\\nwinds from the SW at 4.3 m/s (9.6 mph) gust https://t.co/IAjD8uDRGk'\n",
      "b'RT @MarsWxReport: MC Hammer take 5. \\n\\nJPL  was going to tell the Deep Space Network  to tell the Mars Odyssey orbiter  to tell @NASAI'\n",
      "b'MC Hammer take 5. \\n\\nJPL  was going to tell the Deep Space Network  to tell the Mars Odyssey orbiter  to tell https://t.co/cHodqBvFHr'\n",
      "b'Stop, HP3 deployment time https://t.co/5omSiB1FB1 https://t.co/af4sXM8V2o'\n",
      "b'InSight sol 88 (2019-02-25) low -95.2C (-139.4F) high -17.8C (0.0F)\\nwinds from the SW at 5.2 m/s (11.6 mph) gus https://t.co/0vrVaHaIEq'\n",
      "b'InSight sol 87 (2019-02-23) low -94.2C (-137.5F) high -16.0C (3.3F)\\nwinds from the WNW at 4.4 m/s (9.7 mph) gus https://t.co/BImnn0Butv'\n",
      "b'InSight sol 86 (2019-02-22) low -95.3C (-139.5F) high -13.7C (7.3F)\\nwinds from the SW at 4.1 m/s (9.2 mph) gust https://t.co/K2S9cAabgh'\n",
      "b'InSight sol 85 (2019-02-21) low -95.7C (-140.3F) high -16.0C (3.1F)\\nwinds from the WNW at 4.4 m/s (9.9 mph) gus https://t.co/8n4QLGfhrn'\n",
      "b'Curiosity is again operating normally following a boot problem first experienced last Friday. Look for more Gale Cr https://t.co/4vAJEOQDNs'\n",
      "b'RT @milkysa: #Mars2020 arm in the testbed https://t.co/iQ7idvnSi2'\n",
      "b'InSight sol 84 (2019-02-20) low -95.1C (-139.2F) high -13.2C (8.3F)\\nwinds from the SW at 4.1 m/s (9.3 mph) gust https://t.co/xyZ7Fb1DWh'\n",
      "b'InSight sol 83 (2019-02-19) low -95.0C (-139.0F) high -11.7C (11.0F)\\nwinds from the SW at 4.1 m/s (9.2 mph) gus https://t.co/pUMctJO8rk'\n",
      "b'InSight sol 82 (2019-02-18) low -94.8C (-138.6F) high -12.3C (9.8F)\\nwinds from the SW at 4.1 m/s (9.3 mph) gust https://t.co/tjejCxG8rD'\n",
      "b'InSight sol 81 (2019-02-17), high -17/2F, low -95/-138F, pressure at 7.23hPa, winds from the WNW at 12 mph gusting https://t.co/y9LV7lamoJ'\n",
      "b'InSight sol 80 (2019-02-16), high -16/3F, low -95/-139F, pressure at 7.23hPa, winds from the WNW at 10.7 mph gusting to 32.3 mph'\n"
     ]
    }
   ],
   "source": [
    "#get the mars twitter account \n",
    "mars_weather = t.statuses.user_timeline(screen_name = user)\n",
    "\n",
    "#print 20 tweets\n",
    "for status in mars_weather:\n",
    "    print(\"%s\" % (status[\"text\"].encode(\"ascii\", \"ignore\")))"
   ]
  },
  {
   "cell_type": "code",
   "execution_count": null,
   "metadata": {},
   "outputs": [],
   "source": []
  }
 ],
 "metadata": {
  "kernelspec": {
   "display_name": "Python (PythonData)",
   "language": "python",
   "name": "pythondata"
  },
  "language_info": {
   "codemirror_mode": {
    "name": "ipython",
    "version": 3
   },
   "file_extension": ".py",
   "mimetype": "text/x-python",
   "name": "python",
   "nbconvert_exporter": "python",
   "pygments_lexer": "ipython3",
   "version": "3.6.8"
  }
 },
 "nbformat": 4,
 "nbformat_minor": 2
}
