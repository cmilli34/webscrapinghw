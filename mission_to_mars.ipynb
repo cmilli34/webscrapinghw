{
 "cells": [
  {
   "cell_type": "code",
   "execution_count": 2,
   "metadata": {},
   "outputs": [
    {
     "name": "stdout",
     "output_type": "stream",
     "text": [
      "Requirement already satisfied: splinter in /anaconda3/lib/python3.6/site-packages (0.10.0)\n",
      "Requirement already satisfied: selenium>=3.141.0 in /anaconda3/lib/python3.6/site-packages (from splinter) (3.141.0)\n",
      "Requirement already satisfied: urllib3 in /anaconda3/lib/python3.6/site-packages (from selenium>=3.141.0->splinter) (1.22)\n",
      "\u001b[33mYou are using pip version 19.0, however version 19.0.3 is available.\n",
      "You should consider upgrading via the 'pip install --upgrade pip' command.\u001b[0m\n",
      "Requirement already satisfied: bs4 in /anaconda3/lib/python3.6/site-packages (0.0.1)\n",
      "Requirement already satisfied: beautifulsoup4 in /anaconda3/lib/python3.6/site-packages (from bs4) (4.6.0)\n",
      "\u001b[33mYou are using pip version 19.0, however version 19.0.3 is available.\n",
      "You should consider upgrading via the 'pip install --upgrade pip' command.\u001b[0m\n",
      "Collecting twitter\n",
      "  Using cached https://files.pythonhosted.org/packages/85/e2/f602e3f584503f03e0389491b251464f8ecfe2596ac86e6b9068fe7419d3/twitter-1.18.0-py2.py3-none-any.whl\n",
      "Installing collected packages: twitter\n",
      "Successfully installed twitter-1.18.0\n",
      "\u001b[33mYou are using pip version 19.0, however version 19.0.3 is available.\n",
      "You should consider upgrading via the 'pip install --upgrade pip' command.\u001b[0m\n"
     ]
    }
   ],
   "source": [
    "#only doing this because my environemnt has these packages but they won't load them into Jupyter\n",
    "! pip install splinter\n",
    "! pip install bs4\n",
    "! pip install twitter"
   ]
  },
  {
   "cell_type": "markdown",
   "metadata": {},
   "source": [
    "#### Install Packages, initialize, and get the HTML file"
   ]
  },
  {
   "cell_type": "code",
   "execution_count": 6,
   "metadata": {},
   "outputs": [],
   "source": [
    "from splinter import Browser\n",
    "import pandas as pd\n",
    "from bs4 import BeautifulSoup as bs\n",
    "import os\n",
    "import requests\n",
    "import pymongo\n",
    "from twitter import *"
   ]
  },
  {
   "cell_type": "code",
   "execution_count": 28,
   "metadata": {},
   "outputs": [],
   "source": [
    "# Initialize PyMongo to work with MongoDBs\n",
    "conn = 'mongodb://localhost:27017'\n",
    "client = pymongo.MongoClient(conn)"
   ]
  },
  {
   "cell_type": "code",
   "execution_count": 21,
   "metadata": {},
   "outputs": [],
   "source": [
    "#read html file into jupyter\n",
    "filepath = os.path.join('nasa.html')\n",
    "with open(filepath) as file:\n",
    "    html = file.read()"
   ]
  },
  {
   "cell_type": "markdown",
   "metadata": {},
   "source": [
    "### Web Scraping"
   ]
  },
  {
   "cell_type": "code",
   "execution_count": null,
   "metadata": {},
   "outputs": [],
   "source": [
    "#make a beautiful soup object\n",
    "mars = soup = bs(html, 'lxml')"
   ]
  },
  {
   "cell_type": "code",
   "execution_count": 32,
   "metadata": {},
   "outputs": [],
   "source": [
    "#collect the latest News Title and Paragraph Text. Assign the text to variables that you can reference later."
   ]
  },
  {
   "cell_type": "code",
   "execution_count": 29,
   "metadata": {},
   "outputs": [
    {
     "name": "stdout",
     "output_type": "stream",
     "text": [
      "News  – NASA’s Mars Exploration Program \n"
     ]
    }
   ],
   "source": [
    "# Extract title text\n",
    "title = soup.title.text\n",
    "print(title)"
   ]
  },
  {
   "cell_type": "code",
   "execution_count": 31,
   "metadata": {},
   "outputs": [
    {
     "name": "stdout",
     "output_type": "stream",
     "text": [
      "Managed by the Mars Exploration Program and the Jet Propulsion Laboratory for NASA’s Science Mission Directorate\n"
     ]
    }
   ],
   "source": [
    "# Print all paragraph texts\n",
    "paragraph = mars.find_all('p')\n",
    "for paragraph in paragraphs:\n",
    "    print(paragraph.text)"
   ]
  },
  {
   "cell_type": "markdown",
   "metadata": {},
   "source": [
    "### Twitter API Section"
   ]
  },
  {
   "cell_type": "code",
   "execution_count": 3,
   "metadata": {},
   "outputs": [],
   "source": [
    "#HIDE THIS SHIT LATER\n",
    "consumer_key = '3rTUDvHNXLoYzEDOpkkJ4DasQ'\n",
    "consumer_secret = 'zcBs8J5BaZb9nuFw3zJWDcdI0EkdYNV3mjtSB6WnOpbrA5iW8u'\n",
    "access_token = '592377153-uXam4caBlKgxXE3sAQfMmV2UJ0BdF1qZjUlvbm65'\n",
    "access_key = 'AHDFjxzDbluP1I8ZgATwfj0zFA9EjMDEeA6nuwdb0e8qk'"
   ]
  },
  {
   "cell_type": "code",
   "execution_count": 11,
   "metadata": {},
   "outputs": [],
   "source": [
    "#authenticate twitter api with my keys\n",
    "t = Twitter(\n",
    "    auth = OAuth(access_token, access_key, consumer_key, consumer_secret))"
   ]
  },
  {
   "cell_type": "code",
   "execution_count": 19,
   "metadata": {},
   "outputs": [],
   "source": [
    "user = \"MarsWxReport\""
   ]
  },
  {
   "cell_type": "code",
   "execution_count": 23,
   "metadata": {},
   "outputs": [
    {
     "name": "stdout",
     "output_type": "stream",
     "text": [
      "(Tue Mar 05 16:11:25 +0000 2019) b'InSight sol 95 (2019-03-03) low -95.2C (-139.3F) high -15.8C (3.6F)\\nwinds from the SW at 4.8 m/s (10.8 mph) gus https://t.co/HpTczWciFq'\n",
      "(Tue Mar 05 16:11:17 +0000 2019) b'InSight sol 94 (2019-03-03) low -133.6C (-208.4F) high -14.4C (6.0F)\\npressure at 7.20 hPa'\n",
      "(Sat Mar 02 13:51:26 +0000 2019) b'InSight sol 92 (2019-03-01) low -94.4C (-137.9F) high -12.9C (8.8F)\\nwinds from the SW at 4.6 m/s (10.2 mph) gus https://t.co/gTFeLKAe2X'\n",
      "(Thu Feb 28 19:57:31 +0000 2019) b'InSight sol 91 (2019-02-28) low -95.0C (-139.0F) high -13.9C (7.0F)\\nwinds from the SW at 4.2 m/s (9.5 mph) gust https://t.co/YxrWhyBdXS'\n",
      "(Thu Feb 28 19:53:01 +0000 2019) b'InSight sol 90 (2019-02-26) low -93.9C (-137.0F) high -12.1C (10.2F)\\nwinds from the SW at 4.2 m/s (9.3 mph) gus https://t.co/xJPOfFjLCy'\n",
      "(Wed Feb 27 21:27:53 +0000 2019) b'InSight sol 89 (2019-02-26) low -95.1C (-139.2F) high -14.4C (6.1F)\\nwinds from the SW at 4.3 m/s (9.6 mph) gust https://t.co/IAjD8uDRGk'\n",
      "(Wed Feb 27 12:49:06 +0000 2019) b'RT @MarsWxReport: MC Hammer take 5. \\n\\nJPL  was going to tell the Deep Space Network  to tell the Mars Odyssey orbiter  to tell @NASAI'\n",
      "(Wed Feb 27 12:38:28 +0000 2019) b'MC Hammer take 5. \\n\\nJPL  was going to tell the Deep Space Network  to tell the Mars Odyssey orbiter  to tell https://t.co/cHodqBvFHr'\n",
      "(Wed Feb 27 10:20:27 +0000 2019) b'Stop, HP3 deployment time https://t.co/5omSiB1FB1 https://t.co/af4sXM8V2o'\n",
      "(Tue Feb 26 00:27:20 +0000 2019) b'InSight sol 88 (2019-02-25) low -95.2C (-139.4F) high -17.8C (0.0F)\\nwinds from the SW at 5.2 m/s (11.6 mph) gus https://t.co/0vrVaHaIEq'\n",
      "(Tue Feb 26 00:27:10 +0000 2019) b'InSight sol 87 (2019-02-23) low -94.2C (-137.5F) high -16.0C (3.3F)\\nwinds from the WNW at 4.4 m/s (9.7 mph) gus https://t.co/BImnn0Butv'\n",
      "(Tue Feb 26 00:27:10 +0000 2019) b'InSight sol 86 (2019-02-22) low -95.3C (-139.5F) high -13.7C (7.3F)\\nwinds from the SW at 4.1 m/s (9.2 mph) gust https://t.co/K2S9cAabgh'\n",
      "(Tue Feb 26 00:27:09 +0000 2019) b'InSight sol 85 (2019-02-21) low -95.7C (-140.3F) high -16.0C (3.1F)\\nwinds from the WNW at 4.4 m/s (9.9 mph) gus https://t.co/8n4QLGfhrn'\n",
      "(Sat Feb 23 14:27:16 +0000 2019) b'Curiosity is again operating normally following a boot problem first experienced last Friday. Look for more Gale Cr https://t.co/4vAJEOQDNs'\n",
      "(Sat Feb 23 14:16:26 +0000 2019) b'RT @milkysa: #Mars2020 arm in the testbed https://t.co/iQ7idvnSi2'\n",
      "(Thu Feb 21 22:22:05 +0000 2019) b'InSight sol 84 (2019-02-20) low -95.1C (-139.2F) high -13.2C (8.3F)\\nwinds from the SW at 4.1 m/s (9.3 mph) gust https://t.co/xyZ7Fb1DWh'\n",
      "(Thu Feb 21 22:21:58 +0000 2019) b'InSight sol 83 (2019-02-19) low -95.0C (-139.0F) high -11.7C (11.0F)\\nwinds from the SW at 4.1 m/s (9.2 mph) gus https://t.co/pUMctJO8rk'\n",
      "(Thu Feb 21 22:21:58 +0000 2019) b'InSight sol 82 (2019-02-18) low -94.8C (-138.6F) high -12.3C (9.8F)\\nwinds from the SW at 4.1 m/s (9.3 mph) gust https://t.co/tjejCxG8rD'\n",
      "(Wed Feb 20 05:08:55 +0000 2019) b'InSight sol 81 (2019-02-17), high -17/2F, low -95/-138F, pressure at 7.23hPa, winds from the WNW at 12 mph gusting https://t.co/y9LV7lamoJ'\n",
      "(Wed Feb 20 05:05:55 +0000 2019) b'InSight sol 80 (2019-02-16), high -16/3F, low -95/-139F, pressure at 7.23hPa, winds from the WNW at 10.7 mph gusting to 32.3 mph'\n"
     ]
    },
    {
     "data": {
      "text/plain": [
       "20"
      ]
     },
     "execution_count": 23,
     "metadata": {},
     "output_type": "execute_result"
    }
   ],
   "source": [
    "#get the mars twitter account \n",
    "mars_weather = t.statuses.user_timeline(screen_name = user)\n",
    "\n",
    "#print 20 tweets\n",
    "for status in mars_weather:\n",
    "    print(\"(%s) %s\" % (status[\"created_at\"], status[\"text\"].encode(\"ascii\", \"ignore\")))\n"
   ]
  },
  {
   "cell_type": "code",
   "execution_count": 18,
   "metadata": {},
   "outputs": [
    {
     "name": "stdout",
     "output_type": "stream",
     "text": [
      "Help on class Twitter in module twitter.api:\n",
      "\n",
      "class Twitter(TwitterCall)\n",
      " |  The minimalist yet fully featured Twitter API class.\n",
      " |  \n",
      " |  Get RESTful data by accessing members of this class. The result\n",
      " |  is decoded python objects (lists and dicts).\n",
      " |  \n",
      " |  The Twitter API is documented at:\n",
      " |  \n",
      " |    https://dev.twitter.com/overview/documentation\n",
      " |  \n",
      " |  The list of most accessible functions is listed at:\n",
      " |  \n",
      " |    https://dev.twitter.com/rest/public\n",
      " |  \n",
      " |  \n",
      " |  Examples::\n",
      " |  \n",
      " |      from twitter import *\n",
      " |  \n",
      " |      t = Twitter(\n",
      " |          auth=OAuth(token, token_secret, consumer_key, consumer_secret))\n",
      " |  \n",
      " |      # Get your \"home\" timeline\n",
      " |      t.statuses.home_timeline()\n",
      " |  \n",
      " |      # Get a particular friend's timeline\n",
      " |      t.statuses.user_timeline(screen_name=\"billybob\")\n",
      " |  \n",
      " |      # to pass in GET/POST parameters, such as `count`\n",
      " |      t.statuses.home_timeline(count=5)\n",
      " |  \n",
      " |      # to pass in the GET/POST parameter `id` you need to use `_id`\n",
      " |      t.statuses.oembed(_id=1234567890)\n",
      " |  \n",
      " |      # Update your status\n",
      " |      t.statuses.update(\n",
      " |          status=\"Using @sixohsix's sweet Python Twitter Tools.\")\n",
      " |  \n",
      " |      # Send a direct message\n",
      " |      t.direct_messages.new(\n",
      " |          user=\"billybob\",\n",
      " |          text=\"I think yer swell!\")\n",
      " |  \n",
      " |      # Get the members of tamtar's list \"Things That Are Rad\"\n",
      " |      t.lists.members(owner_screen_name=\"tamtar\", slug=\"things-that-are-rad\")\n",
      " |  \n",
      " |      # An *optional* `_timeout` parameter can also be used for API\n",
      " |      # calls which take much more time than normal or twitter stops\n",
      " |      # responding for some reason:\n",
      " |      t.users.lookup(\n",
      " |          screen_name=','.join(A_LIST_OF_100_SCREEN_NAMES),             _timeout=1)\n",
      " |  \n",
      " |      # Overriding Method: GET/POST\n",
      " |      # you should not need to use this method as this library properly\n",
      " |      # detects whether GET or POST should be used, Nevertheless\n",
      " |      # to force a particular method, use `_method`\n",
      " |      t.statuses.oembed(_id=1234567890, _method='GET')\n",
      " |  \n",
      " |      # Send images along with your tweets:\n",
      " |      # - first just read images from the web or from files the regular way:\n",
      " |      with open(\"example.png\", \"rb\") as imagefile:\n",
      " |          imagedata = imagefile.read()\n",
      " |      # - then upload medias one by one on Twitter's dedicated server\n",
      " |      #   and collect each one's id:\n",
      " |      t_upload = Twitter(domain='upload.twitter.com',\n",
      " |          auth=OAuth(token, token_secret, consumer_key, consumer_secret))\n",
      " |      id_img1 = t_upload.media.upload(media=imagedata)[\"media_id_string\"]\n",
      " |      id_img2 = t_upload.media.upload(media=imagedata)[\"media_id_string\"]\n",
      " |  \n",
      " |      # - finally send your tweet with the list of media ids:\n",
      " |      t.statuses.update(status=\"PTT ★\", media_ids=\",\".join([id_img1, id_img2]))\n",
      " |  \n",
      " |      # Or send a tweet with an image (or set a logo/banner similarily)\n",
      " |      # using the old deprecated method that will probably disappear some day\n",
      " |      params = {\"media[]\": imagedata, \"status\": \"PTT ★\"}\n",
      " |      # Or for an image encoded as base64:\n",
      " |      params = {\"media[]\": base64_image, \"status\": \"PTT ★\", \"_base64\": True}\n",
      " |      t.statuses.update_with_media(**params)\n",
      " |  \n",
      " |      # Attach text metadata to medias sent, using the upload.twitter.com route\n",
      " |      # using the _json workaround to send json arguments as POST body\n",
      " |      # (warning: to be done before attaching the media to a tweet)\n",
      " |      t_upload.media.metadata.create(_json={\n",
      " |        \"media_id\": id_img1,\n",
      " |        \"alt_text\": { \"text\": \"metadata generated via PTT!\" }\n",
      " |      })\n",
      " |      # or with the shortcut arguments (\"alt_text\" and \"text\" work):\n",
      " |      t_upload.media.metadata.create(media_id=id_img1, text=\"metadata generated via PTT!\")\n",
      " |  \n",
      " |  Searching Twitter::\n",
      " |  \n",
      " |      # Search for the latest tweets about #pycon\n",
      " |      t.search.tweets(q=\"#pycon\")\n",
      " |  \n",
      " |  \n",
      " |  Using the data returned\n",
      " |  -----------------------\n",
      " |  \n",
      " |  Twitter API calls return decoded JSON. This is converted into\n",
      " |  a bunch of Python lists, dicts, ints, and strings. For example::\n",
      " |  \n",
      " |      x = twitter.statuses.home_timeline()\n",
      " |  \n",
      " |      # The first 'tweet' in the timeline\n",
      " |      x[0]\n",
      " |  \n",
      " |      # The screen name of the user who wrote the first 'tweet'\n",
      " |      x[0]['user']['screen_name']\n",
      " |  \n",
      " |  \n",
      " |  Getting raw XML data\n",
      " |  --------------------\n",
      " |  \n",
      " |  If you prefer to get your Twitter data in XML format, pass\n",
      " |  format=\"xml\" to the Twitter object when you instantiate it::\n",
      " |  \n",
      " |      twitter = Twitter(format=\"xml\")\n",
      " |  \n",
      " |  The output will not be parsed in any way. It will be a raw string\n",
      " |  of XML.\n",
      " |  \n",
      " |  Method resolution order:\n",
      " |      Twitter\n",
      " |      TwitterCall\n",
      " |      builtins.object\n",
      " |  \n",
      " |  Methods defined here:\n",
      " |  \n",
      " |  __init__(self, format='json', domain='api.twitter.com', secure=True, auth=None, api_version=<class 'twitter.api._DEFAULT'>, retry=False)\n",
      " |      Create a new twitter API connector.\n",
      " |      \n",
      " |      Pass an `auth` parameter to use the credentials of a specific\n",
      " |      user. Generally you'll want to pass an `OAuth`\n",
      " |      instance::\n",
      " |      \n",
      " |          twitter = Twitter(auth=OAuth(\n",
      " |                  token, token_secret, consumer_key, consumer_secret))\n",
      " |      \n",
      " |      \n",
      " |      `domain` lets you change the domain you are connecting. By\n",
      " |      default it's `api.twitter.com`.\n",
      " |      \n",
      " |      If `secure` is False you will connect with HTTP instead of\n",
      " |      HTTPS.\n",
      " |      \n",
      " |      `api_version` is used to set the base uri. By default it's\n",
      " |      '1.1'.\n",
      " |      \n",
      " |      If `retry` is True, API rate limits will automatically be\n",
      " |      handled by waiting until the next reset, as indicated by\n",
      " |      the X-Rate-Limit-Reset HTTP header. If retry is an integer,\n",
      " |      it defines the number of retries attempted.\n",
      " |  \n",
      " |  ----------------------------------------------------------------------\n",
      " |  Methods inherited from TwitterCall:\n",
      " |  \n",
      " |  __call__(self, **kwargs)\n",
      " |      Call self as a function.\n",
      " |  \n",
      " |  __getattr__(self, k)\n",
      " |  \n",
      " |  ----------------------------------------------------------------------\n",
      " |  Data descriptors inherited from TwitterCall:\n",
      " |  \n",
      " |  __dict__\n",
      " |      dictionary for instance variables (if defined)\n",
      " |  \n",
      " |  __weakref__\n",
      " |      list of weak references to the object (if defined)\n",
      " |  \n",
      " |  ----------------------------------------------------------------------\n",
      " |  Data and other attributes inherited from TwitterCall:\n",
      " |  \n",
      " |  TWITTER_UNAVAILABLE_WAIT = 30\n",
      "\n"
     ]
    }
   ],
   "source": [
    "help(Twitter)"
   ]
  },
  {
   "cell_type": "code",
   "execution_count": null,
   "metadata": {},
   "outputs": [],
   "source": []
  }
 ],
 "metadata": {
  "kernelspec": {
   "display_name": "Python (PythonData)",
   "language": "python",
   "name": "pythondata"
  },
  "language_info": {
   "codemirror_mode": {
    "name": "ipython",
    "version": 3
   },
   "file_extension": ".py",
   "mimetype": "text/x-python",
   "name": "python",
   "nbconvert_exporter": "python",
   "pygments_lexer": "ipython3",
   "version": "3.6.8"
  }
 },
 "nbformat": 4,
 "nbformat_minor": 2
}
